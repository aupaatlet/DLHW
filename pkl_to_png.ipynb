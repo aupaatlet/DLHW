{
 "cells": [
  {
   "cell_type": "code",
   "execution_count": 4,
   "id": "5209d533-93c4-436b-9667-d9ed4a6bcd9b",
   "metadata": {
    "execution": {
     "iopub.execute_input": "2025-04-30T06:42:53.971609Z",
     "iopub.status.busy": "2025-04-30T06:42:53.971203Z",
     "iopub.status.idle": "2025-04-30T06:47:47.970438Z",
     "shell.execute_reply": "2025-04-30T06:47:47.969505Z",
     "shell.execute_reply.started": "2025-04-30T06:42:53.971573Z"
    },
    "tags": []
   },
   "outputs": [
    {
     "name": "stdout",
     "output_type": "stream",
     "text": [
      "Finish Saving\n"
     ]
    }
   ],
   "source": [
    "import pickle\n",
    "import matplotlib.pyplot as plt\n",
    "import os\n",
    "from mpl_toolkits.mplot3d import Axes3D\n",
    "\n",
    "task_name = 'blocks_stack_easy'\n",
    "\n",
    "for j in range(0,10):\n",
    "    output_dir = f\"/openbayes/home/{task_name}/episode{j}\"\n",
    "    os.makedirs(output_dir, exist_ok=True)\n",
    "    for i in range(0, 286):\n",
    "        try:\n",
    "            with open(f\"/openbayes/home/RoboTwin/data/{task_name}_D435_pkl/episode{j}/{i}.pkl\", \"rb\") as f:\n",
    "                data1 = pickle.load(f)\n",
    "\n",
    "            rgb_array = data1[\"observation\"]['head_camera'][\"rgb\"]\n",
    "\n",
    "            if rgb_array.dtype in ('float32', 'float64'):\n",
    "                rgb_array = (rgb_array * 255).astype('uint8')\n",
    "\n",
    "            plt.figure()\n",
    "            plt.imshow(rgb_array)\n",
    "            plt.axis('off')\n",
    "\n",
    "            save_path = os.path.join(output_dir, f\"image_{i:03d}.png\")\n",
    "            plt.savefig(save_path, bbox_inches='tight', pad_inches=0, dpi=300)\n",
    "\n",
    "            plt.close()\n",
    "\n",
    "        except:\n",
    "            continue\n",
    "\n",
    "print(\"Finish Saving\")"
   ]
  }
 ],
 "metadata": {
  "kernelspec": {
   "display_name": "Python 3 (ipykernel)",
   "language": "python",
   "name": "python3"
  },
  "language_info": {
   "codemirror_mode": {
    "name": "ipython",
    "version": 3
   },
   "file_extension": ".py",
   "mimetype": "text/x-python",
   "name": "python",
   "nbconvert_exporter": "python",
   "pygments_lexer": "ipython3",
   "version": "3.10.16"
  }
 },
 "nbformat": 4,
 "nbformat_minor": 5
}
